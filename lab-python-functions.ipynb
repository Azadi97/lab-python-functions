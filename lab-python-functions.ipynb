{
 "cells": [
  {
   "cell_type": "markdown",
   "id": "25d7736c-ba17-4aff-b6bb-66eba20fbf4e",
   "metadata": {},
   "source": [
    "# Lab | Functions"
   ]
  },
  {
   "cell_type": "markdown",
   "id": "0c581062-8967-4d93-b06e-62833222f930",
   "metadata": {
    "tags": []
   },
   "source": [
    "## Exercise: Managing Customer Orders with Functions\n",
    "\n",
    "In the previous exercise, you improved the code for managing customer orders by using loops and flow control. Now, let's take it a step further and refactor the code by introducing functions.\n",
    "\n",
    "Follow the steps below to complete the exercise:\n",
    "\n",
    "1. Define a function named `initialize_inventory` that takes `products` as a parameter. Inside the function, implement the code for initializing the inventory dictionary using a loop and user input.\n",
    "\n",
    "2. Define a function named `get_customer_orders` that takes no parameters. Inside the function, implement the code for prompting the user to enter the product names using a loop. The function should return the `customer_orders` set.\n",
    "\n",
    "3. Define a function named `update_inventory` that takes `customer_orders` and `inventory` as parameters. Inside the function, implement the code for updating the inventory dictionary based on the customer orders.\n",
    "\n",
    "4. Define a function named `calculate_order_statistics` that takes `customer_orders` and `products` as parameters. Inside the function, implement the code for calculating the order statistics (total products ordered, and percentage of unique products ordered). The function should return these values.\n",
    "\n",
    "5. Define a function named `print_order_statistics` that takes `order_statistics` as a parameter. Inside the function, implement the code for printing the order statistics.\n",
    "\n",
    "6. Define a function named `print_updated_inventory` that takes `inventory` as a parameter. Inside the function, implement the code for printing the updated inventory.\n",
    "\n",
    "7. Call the functions in the appropriate sequence to execute the program and manage customer orders.\n",
    "\n",
    "Hints for functions:\n",
    "\n",
    "- Consider the input parameters required for each function and their return values.\n",
    "- Utilize function parameters and return values to transfer data between functions.\n",
    "- Test your functions individually to ensure they work correctly.\n",
    "\n",
    "\n"
   ]
  },
  {
   "cell_type": "code",
   "execution_count": 1,
   "id": "b9266197",
   "metadata": {},
   "outputs": [
    {
     "name": "stdout",
     "output_type": "stream",
     "text": [
      "Input the quantity for t-shirt:22\n",
      "Input the quantity for mug:23\n",
      "Input the quantity for hat:24\n",
      "Input the quantity for book:25\n",
      "Input the quantity for keychain:26\n"
     ]
    },
    {
     "data": {
      "text/plain": [
       "{'t-shirt': '22', 'mug': '23', 'hat': '24', 'book': '25', 'keychain': '26'}"
      ]
     },
     "execution_count": 1,
     "metadata": {},
     "output_type": "execute_result"
    }
   ],
   "source": [
    "\"\"\"1- Define a function named initialize_inventory that takes products as a parameter. Inside the function, \n",
    "implement the code for initializing the inventory dictionary using a loop and user input.\"\"\"\n",
    "\n",
    "# products = ['t-shirt', 'mug', 'hat', 'book', 'keychain']\n",
    "inventory = {}\n",
    "def initialize_inventory(products):\n",
    "    \n",
    "    for i in products:\n",
    "        pr_count = input(f\"Input the quantity for {i}:\")\n",
    "        inventory[i] = pr_count\n",
    "    return inventory\n",
    "\n",
    "products = ['t-shirt', 'mug', 'hat', 'book', 'keychain']\n",
    "initialize_inventory(products)\n",
    "\n"
   ]
  },
  {
   "cell_type": "code",
   "execution_count": 2,
   "id": "4a09b59e",
   "metadata": {},
   "outputs": [
    {
     "name": "stdout",
     "output_type": "stream",
     "text": [
      "input product name:book\n",
      "want to continue: yes/nono\n"
     ]
    },
    {
     "data": {
      "text/plain": [
       "{'book'}"
      ]
     },
     "execution_count": 2,
     "metadata": {},
     "output_type": "execute_result"
    }
   ],
   "source": [
    "\"\"\"2- Define a function named get_customer_orders that takes no parameters. Inside the function, implement the code for \n",
    "prompting the user to enter the product names using a loop. The function should return the customer_orders set.\"\"\"\n",
    "\n",
    "def get_customer_orders():\n",
    "    customer_orders = set()\n",
    "    yes = True\n",
    "    while yes:\n",
    "        prod = input(\"input product name:\")\n",
    "        customer_orders.add(prod)\n",
    "        req = input(\"want to continue: yes/no\")\n",
    "        if req == \"no\":\n",
    "            return customer_orders\n",
    "            yes = False\n",
    "            \n",
    "\n",
    "get_customer_orders()\n"
   ]
  },
  {
   "cell_type": "code",
   "execution_count": 3,
   "id": "3dc53269",
   "metadata": {},
   "outputs": [
    {
     "name": "stdout",
     "output_type": "stream",
     "text": [
      "input product name:book\n",
      "want to continue: yes/nono\n"
     ]
    },
    {
     "data": {
      "text/plain": [
       "{'t-shirt': 22, 'mug': 23, 'hat': 24, 'book': 24, 'keychain': 26}"
      ]
     },
     "execution_count": 3,
     "metadata": {},
     "output_type": "execute_result"
    }
   ],
   "source": [
    "\"\"\"3- Define a function named update_inventory that takes customer_orders and inventory as parameters. \n",
    "Inside the function, implement the code for updating the inventory dictionary based on the customer orders.\"\"\"\n",
    "\n",
    "def update_inventory(customer_orders, inventory):\n",
    "    updated_inventory = {}\n",
    "    for i, j in inventory.items():\n",
    "        if i in customer_orders:\n",
    "\n",
    "            deducted_quantity = int(inventory[i]) - 1\n",
    "            updated_inventory[i] = deducted_quantity\n",
    "        else:\n",
    "            deducted_quantity = int(inventory[i])\n",
    "            updated_inventory[i] = deducted_quantity\n",
    "    return updated_inventory\n",
    "\n",
    "customer_orders = get_customer_orders()\n",
    "update_inventory(customer_orders, inventory)\n",
    "\n"
   ]
  },
  {
   "cell_type": "code",
   "execution_count": 4,
   "id": "a82e86b3",
   "metadata": {},
   "outputs": [
    {
     "data": {
      "text/plain": [
       "(1, 20.0)"
      ]
     },
     "execution_count": 4,
     "metadata": {},
     "output_type": "execute_result"
    }
   ],
   "source": [
    "\"\"\" 4- Define a function named calculate_order_statistics that takes customer_orders and products as parameters. \n",
    "Inside the function, implement the code for calculating the order statistics (total products ordered, \n",
    "and percentage of unique products ordered). The function should return these values.\"\"\"\n",
    "\n",
    "def calculate_order_statistics(customer_orders, products):\n",
    "    \n",
    "    total_products_ordered = len(customer_orders)\n",
    "\n",
    "    total_available = len(products)\n",
    "\n",
    "    percentage_ordered = total_products_ordered * 100 / total_available\n",
    "    return total_products_ordered, percentage_ordered\n",
    "\n",
    "# order_stats = customer_orders, products\n",
    "calculate_order_statistics(customer_orders, products)\n"
   ]
  },
  {
   "cell_type": "code",
   "execution_count": 5,
   "id": "5f313fb7",
   "metadata": {},
   "outputs": [
    {
     "name": "stdout",
     "output_type": "stream",
     "text": [
      "Total Products Ordered: 1\n",
      "Percentage of Unique Products Ordered: 20.00%\n"
     ]
    }
   ],
   "source": [
    "\"\"\"5- Define a function named print_order_statistics that takes order_statistics as a parameter. \n",
    "Inside the function, implement the code for printing the order statistics.\"\"\"\n",
    "\n",
    "def print_order_statistics(order_statistics):\n",
    "    total_products_ordered, percentage_ordered = order_statistics\n",
    "    \n",
    "    print(\"Total Products Ordered:\", total_products_ordered)\n",
    "    print(\"Percentage of Unique Products Ordered:\", f\"{percentage_ordered:.2f}%\")\n",
    "\n",
    "order_stats = calculate_order_statistics(customer_orders, products)\n",
    "print_order_statistics(order_stats)\n"
   ]
  },
  {
   "cell_type": "code",
   "execution_count": 6,
   "id": "34deb77c",
   "metadata": {},
   "outputs": [
    {
     "name": "stdout",
     "output_type": "stream",
     "text": [
      "Updated Inventory:\n",
      "t-shirt: 22\n",
      "mug: 23\n",
      "hat: 24\n",
      "book: 24\n",
      "keychain: 26\n"
     ]
    }
   ],
   "source": [
    "\"\"\"6- Define a function named print_updated_inventory that takes inventory as a parameter. Inside the function, \n",
    "implement the code for printing the updated inventory.\"\"\"\n",
    "\n",
    "def print_updated_inventory(inventory):\n",
    "    print(\"Updated Inventory:\")\n",
    "    for item, quantity in inventory.items():\n",
    "        print(f\"{item}: {quantity}\")\n",
    "        \n",
    "updated_inventory = update_inventory(customer_orders, inventory)\n",
    "print_updated_inventory(updated_inventory)\n",
    "    "
   ]
  },
  {
   "cell_type": "code",
   "execution_count": 7,
   "id": "b6408386",
   "metadata": {},
   "outputs": [
    {
     "name": "stdout",
     "output_type": "stream",
     "text": [
      "Input the quantity for t-shirt:55\n",
      "Input the quantity for mug:56\n",
      "Input the quantity for hat:57\n",
      "Input the quantity for book:58\n",
      "Input the quantity for keychain:59\n",
      "input product name:mug\n",
      "want to continue: yes/nono\n",
      "Total Products Ordered: 1\n",
      "Percentage of Unique Products Ordered: 20.00%\n",
      "Updated Inventory:\n",
      "t-shirt: 55\n",
      "mug: 55\n",
      "hat: 57\n",
      "book: 58\n",
      "keychain: 59\n"
     ]
    }
   ],
   "source": [
    "\"\"\"7- Call the functions in the appropriate sequence to execute the program and manage customer orders.\"\"\"\n",
    "\n",
    "products = ['t-shirt', 'mug', 'hat', 'book', 'keychain']\n",
    "initialize_inventory(products)\n",
    "\n",
    "customer_orders = get_customer_orders()\n",
    "\n",
    "update_inventory(customer_orders, inventory)\n",
    "\n",
    "order_stats = customer_orders, products\n",
    "calculate_order_statistics(customer_orders, products)\n",
    "\n",
    "order_stats = calculate_order_statistics(customer_orders, products)\n",
    "print_order_statistics(order_stats)\n",
    "\n",
    "updated_inventory = update_inventory(customer_orders, inventory)\n",
    "print_updated_inventory(updated_inventory)\n",
    "\n"
   ]
  }
 ],
 "metadata": {
  "kernelspec": {
   "display_name": "Python 3 (ipykernel)",
   "language": "python",
   "name": "python3"
  },
  "language_info": {
   "codemirror_mode": {
    "name": "ipython",
    "version": 3
   },
   "file_extension": ".py",
   "mimetype": "text/x-python",
   "name": "python",
   "nbconvert_exporter": "python",
   "pygments_lexer": "ipython3",
   "version": "3.9.7"
  }
 },
 "nbformat": 4,
 "nbformat_minor": 5
}
